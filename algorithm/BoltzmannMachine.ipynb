{
 "cells": [
  {
   "cell_type": "markdown",
   "id": "66e36297-7367-4df5-ba65-5fcd013a45c7",
   "metadata": {},
   "source": [
    "# Classical Boltzmann machine\n",
    "\n",
    "For a brief introduction, see [wikipedia](https://en.wikipedia.org/wiki/Boltzmann_machine) and the first section of [1601.02036](https://arxiv.org/pdf/1601.02036.pdf)\n",
    "\n",
    "A Boltzman machine can have some nodes, including visible nodes (v) and hidden nodes (h). \n",
    "\n",
    "![Boltzmann Machine](https://upload.wikimedia.org/wikipedia/commons/thumb/7/7a/Boltzmannexamplev1.png/220px-Boltzmannexamplev1.png)\n",
    "\n",
    "Based on the value on the nodes, as well as the trainable parameters, an energy can be computed, which can be used to determine the probability of a sample $p_\\text{model}(h,v)$.\n",
    "\n",
    "Using the calculated probability for h and v, and then summing over all possible configurations of h, we can compute the marginal probability for a given state of v.   $p_\\text{model}(v)$. \n",
    "\n",
    "Then, we will tune the trainable parameters to make $p_\\text{model}(v)$ as close to $p_\\text{data}(v)$ as possible.\n",
    "\n",
    "For the detailed description, see the linked paper above."
   ]
  },
  {
   "cell_type": "markdown",
   "id": "8c75779c-b198-439c-87b3-1b832eb94c40",
   "metadata": {},
   "source": [
    "## Restricted Boltzmann Machine\n",
    "\n",
    "A fully connected Boltzmann Machine is hard to train. To simplify things, people used Restricted Boltzmann Machine (RBM).\n",
    "\n",
    "For RBM, there is no inter-connections between hidden nodes, nor inter-connections between visible nodes. There are connections between hidden nodes and visible nodes.\n",
    "\n",
    "![Restricted Boltzmann Machine ](https://upload.wikimedia.org/wikipedia/commons/thumb/e/e8/Restricted_Boltzmann_machine.svg/220px-Restricted_Boltzmann_machine.svg.png)\n",
    "\n",
    "The advantage is that it makes the conditional probability $p(\\vec{v}|\\vec{h})$ easier to calculate, since the visible nodes are independent of each other. Similarly, $p(\\vec{h}|\\vec{v})$ is easier to calculate. This enables one to use Contrastive Divergence (CD-n) or Persistent Contrastive Divergence (PCD-n) methods.\n",
    "\n",
    "For more details, see chapter 16 of [1803.08823](https://arxiv.org/abs/1803.08823)"
   ]
  },
  {
   "cell_type": "code",
   "execution_count": null,
   "id": "2d446eaa-9bb8-4e6a-82ce-cbf7e4053829",
   "metadata": {},
   "outputs": [],
   "source": []
  }
 ],
 "metadata": {
  "kernelspec": {
   "display_name": "Python 3 (ipykernel)",
   "language": "python",
   "name": "python3"
  },
  "language_info": {
   "codemirror_mode": {
    "name": "ipython",
    "version": 3
   },
   "file_extension": ".py",
   "mimetype": "text/x-python",
   "name": "python",
   "nbconvert_exporter": "python",
   "pygments_lexer": "ipython3",
   "version": "3.11.7"
  }
 },
 "nbformat": 4,
 "nbformat_minor": 5
}
