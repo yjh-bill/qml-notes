{
 "cells": [
  {
   "cell_type": "markdown",
   "id": "53322c9e-ca5d-4245-b363-5be6cc0d0a1b",
   "metadata": {},
   "source": [
    "# Data encoding/data embedding\n",
    "\n",
    "Currently, one application of quantum computing is to do machine learning on the classical data. To achieve this, we need to \"input\" the classical data into the quantum circuit. That is to say, we want to use a quantum state to represent the classical data.\n",
    "\n",
    "There are a few different ways to do that."
   ]
  },
  {
   "cell_type": "markdown",
   "id": "6010f9f0-3ff2-4514-8a5c-50a150be067f",
   "metadata": {},
   "source": [
    "## 1. Basis encoding\n",
    "   \n",
    "The most naive encoding. Suitable for discrete data. For example, if you have 3 qubits, you can use it to represent discrete integers from $0$ to $7$. Like $\\ket{000}$ represents $0$, $\\ket{001}$ represents $1$, and so on."
   ]
  },
  {
   "cell_type": "markdown",
   "id": "24c7a150-d398-4ff4-a216-e22377c106c2",
   "metadata": {},
   "source": [
    "## 2. Amplitude encoding.\n",
    "\n",
    "Suppose you have 2 qubits, you can have $\\ket{\\phi}=c_{00}\\ket{00}+c_{01}\\ket{01}+c_{10}\\ket{10}+c_{11}\\ket{11}$. Roughly speaking, we can encode 4 numbers $c_{00},c_{01},c_{10},c_{11}$ into the quantum state. (More precisely, since theses are complex numbers, we can encode 8 real numbers. However, considering the normalization and global phase, we in fact have $8-2=6$ degrees of freedom).\n",
    "\n",
    "The advantage of this method is that a small number of qubit can represent a large amount of classical data. Suppose each classical data point has $N$ features, then only $\\sim\\log(N)$ number of qubits are required.\n",
    "\n",
    "However, even though $n$ qubits can represent $2^n$ numbers, the implementation of this can be costly. Except special cases, it would cost roughly $2^n$ operations.\n",
    "\n",
    "Another disadvantage is that the type of computation is limited. After you encode the classical input data into the amplitudes, whichever subsequent gates the circuit has, the resulting state will always have coefficients that are proportional to the classical input data. This is to say, it is difficult to have non-linear operations.\n",
    "\n",
    "For an example of how amplitude encoding can be implemented, see [a pennylane demo](https://pennylane.ai/qml/demos/tutorial_variational_classifier/#iris-classification).\n",
    "\n",
    "For more information, see *Supervised Learning with Quantum Computers* by Schuld and Petruccione."
   ]
  },
  {
   "cell_type": "markdown",
   "id": "f6588f4c-dfc8-4bd7-9504-be88411c133d",
   "metadata": {},
   "source": [
    "## 3. Angle encoding\n",
    "\n",
    "When you have a number $x$ and want to encode it in a qubit, you can encode the data by the rotation angle $\\ket{0}\\rightarrow R(x)\\ket{0}$. Here, the rotation $R$ may refer to $R_x$, $R_y$, or $R_z$. \n",
    "\n",
    "When you have $n$ qubits, you can rotate each of them separately. Thus, you can encode at most $n$ real numbers into a quantum state."
   ]
  },
  {
   "cell_type": "markdown",
   "id": "c33c3b68-a118-4742-a41e-2dfae53ea50c",
   "metadata": {},
   "source": [
    "### ZFeatureMap\n",
    "In qiskit, the built-in ZFeatureMap is a variant of the angle encoding. After Hardmard gate, we impose rotations around the Z axis; the rotation angles can serve as the classical input. \n",
    "\n",
    "Let's first look at a one qubit example."
   ]
  },
  {
   "cell_type": "code",
   "execution_count": 1,
   "id": "54f89f60-f480-4008-8a6e-27b3d07060bb",
   "metadata": {},
   "outputs": [
    {
     "data": {
      "image/png": "[encoded data removed]",
      "text/plain": [
       "<Figure size 269.064x117.056 with 1 Axes>"
      ]
     },
     "execution_count": 1,
     "metadata": {},
     "output_type": "execute_result"
    }
   ],
   "source": [
    "from qiskit.circuit.library import ZFeatureMap\n",
    "\n",
    "z_feature_map=ZFeatureMap(1, reps=1)\n",
    "z_feature_map.decompose().draw(output=\"mpl\", style=\"clifford\")"
   ]
  },
  {
   "cell_type": "markdown",
   "id": "6177305e-a10e-4508-b5ea-dc9bc8a7e1fd",
   "metadata": {},
   "source": [
    "Here, the $P$ gate refers to the phase gate. It differs from the $R_z$ just by a global phase.\n",
    "\n",
    "\n",
    "$$\n",
    "P( \\lambda ) =\\begin{pmatrix}\n",
    "1 & 0\\\\\n",
    "0 & e^{i\\lambda }\n",
    "\\end{pmatrix}\n",
    "$$\n",
    "\n",
    "In this case, we have a classical input $x_0$. Using the ZFeatureMap, we get the following quantum state\n",
    "\n",
    "$$\n",
    "\\frac{1}{\\sqrt{2}}\\left(\\ket{0} +e^{2ix_{0}}\\ket{1}\\right).\n",
    "$$\n",
    "\n",
    " "
   ]
  },
  {
   "cell_type": "markdown",
   "id": "e39756ee-114a-445e-862e-a77a4d4db4e4",
   "metadata": {},
   "source": [
    "  "
   ]
  },
  {
   "cell_type": "markdown",
   "id": "15572bb2-d85d-40f2-9e17-5c7b0ae363ac",
   "metadata": {},
   "source": [
    "What happens if we increase the repetition number from $1$ to $2$? We get the following circuit."
   ]
  },
  {
   "cell_type": "code",
   "execution_count": 2,
   "id": "368837f1-2d89-4fbd-a9c8-3421c2de84b5",
   "metadata": {},
   "outputs": [
    {
     "data": {
      "image/png": "[encoded data removed]",
      "text/plain": [
       "<Figure size 436.286x117.056 with 1 Axes>"
      ]
     },
     "execution_count": 2,
     "metadata": {},
     "output_type": "execute_result"
    }
   ],
   "source": [
    "z_feature_map=ZFeatureMap(1, reps=2)\n",
    "z_feature_map.decompose().draw(output=\"mpl\", style=\"clifford\")"
   ]
  },
  {
   "cell_type": "markdown",
   "id": "5eb74743-9c3c-4d4b-ad2d-14aa01612eb3",
   "metadata": {},
   "source": [
    "We get $\\ \\begin{aligned}\n",
    " & \\frac{1}{2}\\left(\\left( 1+e^{2ix_{0}}\\right)\\ket{0} +\\left( e^{2ix_{0}} -e^{4ix_{0}}\\right)\\ket{1}\\right)\n",
    "\\end{aligned}$, which may be more complicated than the `reps=1` case."
   ]
  },
  {
   "cell_type": "markdown",
   "id": "2b531bff-a223-4afc-8e67-41ee7d9d1f0b",
   "metadata": {},
   "source": [
    "  "
   ]
  },
  {
   "cell_type": "markdown",
   "id": "f3daf535-1783-467e-bf24-926889db59ba",
   "metadata": {},
   "source": [
    "Now, let's look at a 2-qubit example."
   ]
  },
  {
   "cell_type": "code",
   "execution_count": 3,
   "id": "153a312e-a2ad-47ab-a750-22da78262301",
   "metadata": {},
   "outputs": [
    {
     "data": {
      "image/png": "[encoded data removed]",
      "text/plain": [
       "<Figure size 287.294x200.667 with 1 Axes>"
      ]
     },
     "execution_count": 3,
     "metadata": {},
     "output_type": "execute_result"
    }
   ],
   "source": [
    "z_feature_map=ZFeatureMap(2, reps=1)\n",
    "z_feature_map.decompose().draw(output=\"mpl\", style=\"clifford\")"
   ]
  },
  {
   "cell_type": "markdown",
   "id": "e05dd2e8-8b3d-4805-9ee3-8453dd4fa1cf",
   "metadata": {},
   "source": [
    "\n",
    "\n",
    "\n",
    "Take the above circuit for example. For classical data $x_0$ and $x_1$, the corresponding quantum state will be\n",
    "\n",
    "$$\n",
    "\\begin{aligned}\n",
    "\\ket{\\phi } & =\\frac{1}{\\sqrt{2}}\\left(\\ket{0} +e^{2ix_{0}}\\ket{1}\\right) \\otimes \\frac{1}{\\sqrt{2}}\\left(\\ket{0} +e^{2ix_{1}}\\ket{1}\\right)\\\\\n",
    " & =\\frac{1}{\\left(\\sqrt{2}\\right)^{2}}\\left(\\ket{00} +e^{2ix_{0}}\\ket{10} +e^{2ix_{1}}\\ket{01} +e^{2i( x_{0} +x_{1})}\\ket{11}\\right)\n",
    "\\end{aligned}\n",
    "$$"
   ]
  },
  {
   "cell_type": "markdown",
   "id": "a0e00656-b135-4f11-8363-3a1cc88f230c",
   "metadata": {},
   "source": [
    "The ZFeatureMap rotates each qubit independently, so it does not create entanglement.\n",
    "\n",
    "To make full use of the quantum nature of the circuit, people have developed more complicated feature maps."
   ]
  },
  {
   "cell_type": "markdown",
   "id": "dd70a5c4-6ed5-4a9e-98e4-dd45a26b50a2",
   "metadata": {},
   "source": [
    "## Other encodings\n",
    "\n"
   ]
  },
  {
   "cell_type": "markdown",
   "id": "c3ca6a83-0e3e-4b40-853b-e08e05fa6443",
   "metadata": {},
   "source": [
    "### ZZFeatureMap\n",
    "\n",
    "Compared to ZFeatureMap, ZZFeatureMap is more complicated. While both work by rotating the qubits by an angle according to the input data, ZZFeatureMap will create entanglement between the qubits, unlike ZFeatureMap. "
   ]
  },
  {
   "cell_type": "code",
   "execution_count": 4,
   "id": "34175521-6535-4a5b-8dda-34b2fde4917e",
   "metadata": {},
   "outputs": [
    {
     "data": {
      "image/png": "[encoded data removed]",
      "text/plain": [
       "<Figure size 705.35x200.667 with 1 Axes>"
      ]
     },
     "execution_count": 4,
     "metadata": {},
     "output_type": "execute_result"
    }
   ],
   "source": [
    "from qiskit.circuit.library import ZZFeatureMap\n",
    "\n",
    "zz_feature_map=ZZFeatureMap(2, reps=1)\n",
    "zz_feature_map.decompose().draw(output=\"mpl\", style=\"clifford\")"
   ]
  },
  {
   "cell_type": "markdown",
   "id": "e861b0c3-5acd-4e52-963b-a849254f647f",
   "metadata": {},
   "source": [
    "In short, ZZFeatureMap is defined as\n",
    "\n",
    "$$\n",
    "\\ket{0^n}\\rightarrow  U_{\\phi(\\vec x)}H^{\\otimes n}\\ket{0^n},\n",
    "$$\n",
    "with $U_{\\phi(\\vec x)}$ defined as \n",
    "$$\n",
    "U_{\\phi(\\vec x)}=\\exp\\left(i\\sum_i x_i Z_i +i\\sum_{i,j} (\\pi-x_i)(\\pi-x_j) Z_i Z_j\\right),\n",
    "$$\n",
    "where $Z_i$ is the Pauli Z matrix at qubit $i$."
   ]
  },
  {
   "cell_type": "markdown",
   "id": "a1cd0ac9-130d-4b6f-b35f-f4cfcec29f93",
   "metadata": {},
   "source": [
    "Here, since $Z_i$ and $Z_i Z_j$ commute with each other, we may write $U_{\\phi(\\vec x)}=\\exp\\left(i\\sum_{i,j} (\\pi-x_i)(\\pi-x_j) Z_i Z_j\\right)\\exp\\left(i\\sum_i x_i Z_i \\right)$. \n",
    "\n",
    "That is to say, the feature map looks like \n",
    "$$\n",
    "\\ket{0^n}\\rightarrow  \\exp\\left(i\\sum_{i,j} (\\pi-x_i)(\\pi-x_j) Z_i Z_j\\right)\\exp\\left(i\\sum_i x_i Z_i \\right)H^{\\otimes n}\\ket{0^n}.\n",
    "$$\n",
    "\n",
    "Now, let's look at how the circuit above correspond to this formula."
   ]
  },
  {
   "cell_type": "markdown",
   "id": "5055c9c0-fb74-4e46-815b-ef5311a60c71",
   "metadata": {},
   "source": [
    "The circuit can be divided into three parts.\n",
    "\n",
    "\n",
    "1. First part is the Hadamard gates.\n",
    "\n",
    "The following circuit correspond to \n",
    "\n",
    "$$\n",
    "H^{\\otimes n}.\n",
    "$$"
   ]
  },
  {
   "cell_type": "code",
   "execution_count": 5,
   "id": "cf92bac1-bab3-4083-924d-4e3efb843ac9",
   "metadata": {},
   "outputs": [
    {
     "data": {
      "image/png": "[encoded data removed]",
      "text/plain": [
       "<Figure size 203.683x200.667 with 1 Axes>"
      ]
     },
     "execution_count": 5,
     "metadata": {},
     "output_type": "execute_result"
    }
   ],
   "source": [
    "# hardmard gates\n",
    "from qiskit import QuantumCircuit\n",
    "\n",
    "qc = QuantumCircuit(2)\n",
    "qc.h([0, 1])\n",
    "\n",
    "qc.draw('mpl', style='clifford')"
   ]
  },
  {
   "cell_type": "markdown",
   "id": "1fcd8142-d33b-4596-a725-e80744e8d3a1",
   "metadata": {},
   "source": [
    "2. The second part is the single qubit Z-rotation matrices.\n",
    "\n",
    "Up to some constant phase, the following circuit is \n",
    "\n",
    "$$\n",
    "\\exp\\left(i\\sum_i x_i Z_i \\right).\n",
    "$$"
   ]
  },
  {
   "cell_type": "code",
   "execution_count": 6,
   "id": "f5771e2d-2fe0-408f-8249-7031f5f51e74",
   "metadata": {},
   "outputs": [
    {
     "data": {
      "image/png": "[encoded data removed]",
      "text/plain": [
       "<Figure size 203.683x200.667 with 1 Axes>"
      ]
     },
     "execution_count": 6,
     "metadata": {},
     "output_type": "execute_result"
    }
   ],
   "source": [
    "# second part: single qubit rotations\n",
    "\n",
    "from qiskit.circuit import Parameter, ParameterVector\n",
    "\n",
    "qc = QuantumCircuit(2)\n",
    "xs = ParameterVector('x', 2)\n",
    "\n",
    "qc.p(xs[0], 0)\n",
    "qc.p(xs[1], 1)\n",
    "\n",
    "qc.draw('mpl', style='clifford')"
   ]
  },
  {
   "cell_type": "markdown",
   "id": "c3d7587e-6742-4c1d-88b2-49acc5d4d1cd",
   "metadata": {},
   "source": [
    "3. The third part is the 2-qubit ZZ-rotation matrices.\n",
    "\n",
    "$$\n",
    "\\exp\\left(i\\sum_{i,j} (\\pi-x_i)(\\pi-x_j) Z_i Z_j\\right).\n",
    "$$\n",
    "\n",
    "As you can see, this is realized by applying a $Z$-rotation on qubit-1, sandwiched by two $CNOT$ gates from qubit 0. To see how this works, simply plug in the basis states $\\ket{00}$, $\\ket{01}$, $\\ket{10}$, and $\\ket{11}$, and you will see that it indeed gives you an operator of the form $\\exp(i\\theta Z_0Z_1)$."
   ]
  },
  {
   "cell_type": "code",
   "execution_count": 7,
   "id": "5008e99e-428f-46c3-866f-48f82d422a28",
   "metadata": {},
   "outputs": [
    {
     "name": "stderr",
     "output_type": "stream",
     "text": [
      "/tmp/ipykernel_57491/4131280522.py:6: DeprecationWarning: The method ``qiskit.circuit.quantumcircuit.QuantumCircuit.cnot()`` is deprecated as of qiskit 0.45.0. It will be removed no earlier than 3 months after the release date. Use QuantumCircuit.cx as direct replacement.\n",
      "  qc.cnot(0, 1)\n",
      "/tmp/ipykernel_57491/4131280522.py:8: DeprecationWarning: The method ``qiskit.circuit.quantumcircuit.QuantumCircuit.cnot()`` is deprecated as of qiskit 0.45.0. It will be removed no earlier than 3 months after the release date. Use QuantumCircuit.cx as direct replacement.\n",
      "  qc.cnot(0, 1)\n"
     ]
    },
    {
     "data": {
      "image/png": "[encoded data removed]",
      "text/plain": [
       "<Figure size 538.128x200.667 with 1 Axes>"
      ]
     },
     "execution_count": 7,
     "metadata": {},
     "output_type": "execute_result"
    }
   ],
   "source": [
    "# third part: 2-qubit rotation\n",
    "\n",
    "qc = QuantumCircuit(2)\n",
    "xs = ParameterVector('x', 2)\n",
    "\n",
    "qc.cnot(0, 1)\n",
    "qc.p((3.14-xs[0])*(3.14-xs[1]), 1)\n",
    "qc.cnot(0, 1)\n",
    "\n",
    "qc.draw('mpl', style='clifford')"
   ]
  },
  {
   "cell_type": "markdown",
   "id": "e23d514f-de97-4906-9b4c-5f48efcc6c23",
   "metadata": {},
   "source": [
    "The circuit above implements $\\exp\\left(i\\sum_{i,j} (\\pi-x_i)(\\pi-x_j) Z_i Z_j\\right)$ up to some global phase (and maybe also up to a minus sign in the exp)."
   ]
  },
  {
   "cell_type": "markdown",
   "id": "da60b45b-de28-4b2b-989f-8dbc56d55a18",
   "metadata": {},
   "source": [
    "Together, the three parts implement the ZZFeatureMap\n",
    "\n",
    "$$\n",
    "\\ket{0^n}\\rightarrow  U_{\\phi(\\vec x)}H^{\\otimes n}\\ket{0^n},\n",
    "$$\n",
    "with $U_{\\phi(\\vec x)}$ defined as \n",
    "$$\n",
    "U_{\\phi(\\vec x)}=\\exp\\left(i\\sum_i x_i Z_i +i\\sum_{i,j} (\\pi-x_i)(\\pi-x_j) Z_i Z_j\\right),\n",
    "$$"
   ]
  },
  {
   "cell_type": "markdown",
   "id": "2bde59f3-d1cb-4146-b390-56ee0614dadb",
   "metadata": {},
   "source": [
    "### Comments about ZZFeatureMap\n",
    "\n",
    "ZZFeatureMap is different from ZFeatureMap in that ZZFeatureMap creates entanglement. Thus, in some sense, ZZFeatureMap is more \"quantum\" than ZFeatureMap.\n",
    "\n",
    "ZZFeatureMap is originally proposed by [this paper](https://www.nature.com/articles/s41586-019-0980-2). It was designed for the kernel methods. The reason why the authors proposed ZZFeatureMap is that they conjectured that the kernel obtained with ZZFeatureMap would be difficult to calculate classically, thus ZZFeatureMap would offer quantum advantage.\n",
    "\n",
    "Also see the discussion on [Stackexchange](https://quantumcomputing.stackexchange.com/questions/26552/how-well-different-featuremap-encode-the-data)."
   ]
  },
  {
   "cell_type": "markdown",
   "id": "51259cfc-08ad-41f7-8966-9201e6ce31f2",
   "metadata": {},
   "source": [
    "## other encodings\n",
    "\n",
    "__TODO__"
   ]
  },
  {
   "cell_type": "markdown",
   "id": "d6fa15b1-fe81-4242-b352-7510713d7d1b",
   "metadata": {},
   "source": [
    "## Resources\n",
    "\n",
    "https://docs.quantum.ibm.com/api/qiskit/qiskit.circuit.library.PauliFeatureMap\n",
    "\n",
    "https://qml.baidu.com/tutorials/machine-learning/encoding-classical-data-into-quantum-states.html\n",
    "\n",
    "https://pennylane.ai/qml/glossary/quantum_embedding/\n",
    "\n",
    "https://www.nature.com/articles/s41586-019-0980-2\n",
    "\n",
    "https://github.com/qiskit-community/qiskit-community-tutorials/blob/master/machine_learning/custom_feature_map.ipynb\n",
    "\n",
    "https://quantumcomputing.stackexchange.com/questions/26552/how-well-different-featuremap-encode-the-data"
   ]
  },
  {
   "cell_type": "code",
   "execution_count": null,
   "id": "78cd9c69-a4d8-43a7-9374-833d7363ffdc",
   "metadata": {},
   "outputs": [],
   "source": []
  }
 ],
 "metadata": {
  "kernelspec": {
   "display_name": "Python 3 (ipykernel)",
   "language": "python",
   "name": "python3"
  },
  "language_info": {
   "codemirror_mode": {
    "name": "ipython",
    "version": 3
   },
   "file_extension": ".py",
   "mimetype": "text/x-python",
   "name": "python",
   "nbconvert_exporter": "python",
   "pygments_lexer": "ipython3",
   "version": "3.11.7"
  }
 },
 "nbformat": 4,
 "nbformat_minor": 5
}
